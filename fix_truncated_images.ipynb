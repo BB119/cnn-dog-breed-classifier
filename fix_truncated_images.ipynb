{
 "cells": [
  {
   "cell_type": "markdown",
   "metadata": {},
   "source": [
    "One image in the `image_paths` folder is truncated. This will cause an error in PyTorch's dataloaders. One easy fix is to set `LOAD_TRUNCATED_IMAGES = True`. However, this only works when `num_workers = 0`, which can lead to low GPU usage during training as the CPU doesn't keep up with the GPU. \n",
    "\n",
    "The code below tries to open all images with `LOAD_TRUNCATED_IMAGES = False` and save them to a temporary file. When this fails for a truncated image, we set `LOAD_TRUNCATED_IMAGES = True`,  adding a small black border, and we resave the image to its original path. Thereafter we can set `num_workers > 0` in our dataloaders and enjoy optimal GPU utilization. "
   ]
  },
  {
   "cell_type": "code",
   "execution_count": 9,
   "metadata": {
    "scrolled": true
   },
   "outputs": [],
   "source": [
    "import os  \n",
    "import glob\n",
    "from PIL import Image\n",
    "from PIL import ImageFile\n",
    "ImageFile.LOAD_TRUNCATED_IMAGES = False\n",
    "\n",
    "# image_paths = glob.glob('dogImages/*/*/*.jpg')\n",
    "image_paths = glob.glob('dogImages/train/098.Leonberger/*.jpg')\n",
    "\n",
    "for i in range(len(image_paths)):\n",
    "    im = Image.open(image_paths[i])\n",
    "    try:\n",
    "        im.save(\"temp.jpg\")\n",
    "    except:\n",
    "        print(\"Corrupt image: \",image_paths[i])\n",
    "        ImageFile.LOAD_TRUNCATED_IMAGES = True\n",
    "        im.save(image_paths[i])\n",
    "        ImageFile.LOAD_TRUNCATED_IMAGES = False\n",
    "    "
   ]
  }
 ],
 "metadata": {
  "kernelspec": {
   "display_name": "Python 3",
   "language": "python",
   "name": "python3"
  },
  "language_info": {
   "codemirror_mode": {
    "name": "ipython",
    "version": 3
   },
   "file_extension": ".py",
   "mimetype": "text/x-python",
   "name": "python",
   "nbconvert_exporter": "python",
   "pygments_lexer": "ipython3",
   "version": "3.7.2"
  },
  "widgets": {
   "state": {},
   "version": "1.1.2"
  }
 },
 "nbformat": 4,
 "nbformat_minor": 2
}
